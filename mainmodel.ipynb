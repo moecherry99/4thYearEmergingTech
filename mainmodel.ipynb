{
 "cells": [
  {
   "cell_type": "code",
   "execution_count": 1,
   "metadata": {},
   "outputs": [
    {
     "name": "stderr",
     "output_type": "stream",
     "text": [
      "Using TensorFlow backend.\n"
     ]
    }
   ],
   "source": [
    "# imports tf/kr\n",
    "import tensorflow as tf\n",
    "# import tensorflowjs as tfjs (not working)\n",
    "import keras as kr"
   ]
  },
  {
   "cell_type": "code",
   "execution_count": 2,
   "metadata": {},
   "outputs": [],
   "source": [
    "# split the mnist data into train and test\n",
    "(train_img,train_label),(test_img,test_label) = kr.datasets.mnist.load_data()"
   ]
  },
  {
   "cell_type": "code",
   "execution_count": 3,
   "metadata": {},
   "outputs": [],
   "source": [
    "# img shape\n",
    "train_img = train_img.reshape([-1, 28, 28, 1])\n",
    "test_img = test_img.reshape([-1, 28, 28, 1])\n",
    "train_img = train_img/255.0\n",
    "test_img = test_img/255.0"
   ]
  },
  {
   "cell_type": "code",
   "execution_count": 4,
   "metadata": {},
   "outputs": [],
   "source": [
    "train_label = kr.utils.to_categorical(train_label)\n",
    "test_label = kr.utils.to_categorical(test_label)"
   ]
  },
  {
   "cell_type": "code",
   "execution_count": 5,
   "metadata": {},
   "outputs": [],
   "source": [
    "tf.compat.v1.enable_eager_execution()"
   ]
  },
  {
   "cell_type": "code",
   "execution_count": 6,
   "metadata": {},
   "outputs": [],
   "source": [
    "# model creation\n",
    "model = kr.Sequential([\n",
    "    kr.layers.Conv2D(32, (5, 5), padding=\"same\", input_shape=[28, 28, 1]),\n",
    "    kr.layers.MaxPool2D((2,2)),\n",
    "    kr.layers.Conv2D(64, (5, 5), padding=\"same\"),\n",
    "    kr.layers.MaxPool2D((2,2)),\n",
    "    kr.layers.Flatten(),\n",
    "    kr.layers.Dense(1024, activation='relu'),\n",
    "    kr.layers.Dropout(0.2),\n",
    "    kr.layers.Dense(10, activation='softmax')\n",
    "])"
   ]
  },
  {
   "cell_type": "code",
   "execution_count": 7,
   "metadata": {},
   "outputs": [
    {
     "name": "stdout",
     "output_type": "stream",
     "text": [
      "Model: \"sequential_1\"\n",
      "_________________________________________________________________\n",
      "Layer (type)                 Output Shape              Param #   \n",
      "=================================================================\n",
      "conv2d_1 (Conv2D)            (None, 28, 28, 32)        832       \n",
      "_________________________________________________________________\n",
      "max_pooling2d_1 (MaxPooling2 (None, 14, 14, 32)        0         \n",
      "_________________________________________________________________\n",
      "conv2d_2 (Conv2D)            (None, 14, 14, 64)        51264     \n",
      "_________________________________________________________________\n",
      "max_pooling2d_2 (MaxPooling2 (None, 7, 7, 64)          0         \n",
      "_________________________________________________________________\n",
      "flatten_1 (Flatten)          (None, 3136)              0         \n",
      "_________________________________________________________________\n",
      "dense_1 (Dense)              (None, 1024)              3212288   \n",
      "_________________________________________________________________\n",
      "dropout_1 (Dropout)          (None, 1024)              0         \n",
      "_________________________________________________________________\n",
      "dense_2 (Dense)              (None, 10)                10250     \n",
      "=================================================================\n",
      "Total params: 3,274,634\n",
      "Trainable params: 3,274,634\n",
      "Non-trainable params: 0\n",
      "_________________________________________________________________\n"
     ]
    }
   ],
   "source": [
    "# view model\n",
    "model.summary()"
   ]
  },
  {
   "cell_type": "code",
   "execution_count": 8,
   "metadata": {},
   "outputs": [],
   "source": [
    "model.compile(optimizer='adam', loss='categorical_crossentropy', metrics=['accuracy'])"
   ]
  },
  {
   "cell_type": "code",
   "execution_count": 9,
   "metadata": {},
   "outputs": [
    {
     "name": "stdout",
     "output_type": "stream",
     "text": [
      "Train on 60000 samples, validate on 10000 samples\n",
      "Epoch 1/7\n",
      "60000/60000 [==============================] - 212s 4ms/step - loss: 0.1159 - accuracy: 0.9643 - val_loss: 0.0440 - val_accuracy: 0.9866\n",
      "Epoch 2/7\n",
      "60000/60000 [==============================] - 184s 3ms/step - loss: 0.0555 - accuracy: 0.9829 - val_loss: 0.0474 - val_accuracy: 0.9848\n",
      "Epoch 3/7\n",
      "60000/60000 [==============================] - 176s 3ms/step - loss: 0.0457 - accuracy: 0.9861 - val_loss: 0.0820 - val_accuracy: 0.9770\n",
      "Epoch 4/7\n",
      "60000/60000 [==============================] - 179s 3ms/step - loss: 0.0402 - accuracy: 0.9887 - val_loss: 0.0567 - val_accuracy: 0.9867\n",
      "Epoch 5/7\n",
      "60000/60000 [==============================] - 178s 3ms/step - loss: 0.0362 - accuracy: 0.9903 - val_loss: 0.0600 - val_accuracy: 0.98751s - loss: 0.0363  - ETA: 0s - loss: 0.0362 \n",
      "Epoch 6/7\n",
      "60000/60000 [==============================] - 176s 3ms/step - loss: 0.0317 - accuracy: 0.9921 - val_loss: 0.0626 - val_accuracy: 0.9866\n",
      "Epoch 7/7\n",
      "60000/60000 [==============================] - 176s 3ms/step - loss: 0.0376 - accuracy: 0.9920 - val_loss: 0.0520 - val_accuracy: 0.9897\n"
     ]
    },
    {
     "data": {
      "text/plain": [
       "<keras.callbacks.callbacks.History at 0x1d98a426208>"
      ]
     },
     "execution_count": 9,
     "metadata": {},
     "output_type": "execute_result"
    }
   ],
   "source": [
    "# 7 iterations and show accuracy\n",
    "model.fit(train_img,train_label, validation_data=(test_img,test_label), epochs=7)"
   ]
  },
  {
   "cell_type": "code",
   "execution_count": 10,
   "metadata": {},
   "outputs": [],
   "source": [
    "# save the model\n",
    "model.save(\"model-9924.h5\")"
   ]
  },
  {
   "cell_type": "code",
   "execution_count": 11,
   "metadata": {},
   "outputs": [],
   "source": [
    "# convert model\n",
    "# not working, grabbed file from https://github.com/bensonruan/Hand-Written-Digit-Recognition\n",
    "\n",
    "# tfjs.converters.save_keras_model(model, 'static/models')"
   ]
  },
  {
   "cell_type": "code",
   "execution_count": null,
   "metadata": {},
   "outputs": [],
   "source": []
  }
 ],
 "metadata": {
  "kernelspec": {
   "display_name": "Python 3",
   "language": "python",
   "name": "python3"
  },
  "language_info": {
   "codemirror_mode": {
    "name": "ipython",
    "version": 3
   },
   "file_extension": ".py",
   "mimetype": "text/x-python",
   "name": "python",
   "nbconvert_exporter": "python",
   "pygments_lexer": "ipython3",
   "version": "3.7.3"
  }
 },
 "nbformat": 4,
 "nbformat_minor": 2
}
